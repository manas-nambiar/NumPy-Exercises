{
  "nbformat": 4,
  "nbformat_minor": 0,
  "metadata": {
    "colab": {
      "provenance": [],
      "authorship_tag": "ABX9TyP1W+RndfIB+Xs6HKNH7mzN",
      "include_colab_link": true
    },
    "kernelspec": {
      "name": "python3",
      "display_name": "Python 3"
    },
    "language_info": {
      "name": "python"
    }
  },
  "cells": [
    {
      "cell_type": "markdown",
      "metadata": {
        "id": "view-in-github",
        "colab_type": "text"
      },
      "source": [
        "<a href=\"https://colab.research.google.com/github/manas-nambiar/NumPy-Exercises/blob/main/NumPy_Exercises.ipynb\" target=\"_parent\"><img src=\"https://colab.research.google.com/assets/colab-badge.svg\" alt=\"Open In Colab\"/></a>"
      ]
    },
    {
      "cell_type": "code",
      "execution_count": null,
      "metadata": {
        "id": "ncBbwSNAGR8y"
      },
      "outputs": [],
      "source": [
        "import numpy as np"
      ]
    },
    {
      "cell_type": "code",
      "source": [
        "print(np.__version__)\n",
        "print(np.show_config())"
      ],
      "metadata": {
        "colab": {
          "base_uri": "https://localhost:8080/"
        },
        "id": "DfrHBVVhGacW",
        "outputId": "00b6be77-c453-4d99-d36b-992ec8cf2784"
      },
      "execution_count": null,
      "outputs": [
        {
          "output_type": "stream",
          "name": "stdout",
          "text": [
            "1.22.4\n",
            "openblas64__info:\n",
            "    libraries = ['openblas64_', 'openblas64_']\n",
            "    library_dirs = ['/usr/local/lib']\n",
            "    language = c\n",
            "    define_macros = [('HAVE_CBLAS', None), ('BLAS_SYMBOL_SUFFIX', '64_'), ('HAVE_BLAS_ILP64', None)]\n",
            "    runtime_library_dirs = ['/usr/local/lib']\n",
            "blas_ilp64_opt_info:\n",
            "    libraries = ['openblas64_', 'openblas64_']\n",
            "    library_dirs = ['/usr/local/lib']\n",
            "    language = c\n",
            "    define_macros = [('HAVE_CBLAS', None), ('BLAS_SYMBOL_SUFFIX', '64_'), ('HAVE_BLAS_ILP64', None)]\n",
            "    runtime_library_dirs = ['/usr/local/lib']\n",
            "openblas64__lapack_info:\n",
            "    libraries = ['openblas64_', 'openblas64_']\n",
            "    library_dirs = ['/usr/local/lib']\n",
            "    language = c\n",
            "    define_macros = [('HAVE_CBLAS', None), ('BLAS_SYMBOL_SUFFIX', '64_'), ('HAVE_BLAS_ILP64', None), ('HAVE_LAPACKE', None)]\n",
            "    runtime_library_dirs = ['/usr/local/lib']\n",
            "lapack_ilp64_opt_info:\n",
            "    libraries = ['openblas64_', 'openblas64_']\n",
            "    library_dirs = ['/usr/local/lib']\n",
            "    language = c\n",
            "    define_macros = [('HAVE_CBLAS', None), ('BLAS_SYMBOL_SUFFIX', '64_'), ('HAVE_BLAS_ILP64', None), ('HAVE_LAPACKE', None)]\n",
            "    runtime_library_dirs = ['/usr/local/lib']\n",
            "Supported SIMD extensions in this NumPy install:\n",
            "    baseline = SSE,SSE2,SSE3\n",
            "    found = SSSE3,SSE41,POPCNT,SSE42,AVX,F16C,FMA3,AVX2\n",
            "    not found = AVX512F,AVX512CD,AVX512_KNL,AVX512_KNM,AVX512_SKX,AVX512_CLX,AVX512_CNL,AVX512_ICL\n",
            "None\n"
          ]
        }
      ]
    },
    {
      "cell_type": "code",
      "source": [
        "print(np.info(np.add))"
      ],
      "metadata": {
        "colab": {
          "base_uri": "https://localhost:8080/"
        },
        "id": "mYw_6P-HGwJ-",
        "outputId": "09fd2a0a-1d07-447f-9794-b0c332ac6bd7"
      },
      "execution_count": null,
      "outputs": [
        {
          "output_type": "stream",
          "name": "stdout",
          "text": [
            "None\n"
          ]
        }
      ]
    },
    {
      "cell_type": "code",
      "source": [
        "arr = np.array([1, 2, 3])\n",
        "print(np.all(arr))\n",
        "\n",
        "arr = np.array([1, 2, 0])\n",
        "print(np.all(arr))"
      ],
      "metadata": {
        "colab": {
          "base_uri": "https://localhost:8080/"
        },
        "id": "w23aNzdyIGi4",
        "outputId": "88e58e87-3ed1-4a7e-cb86-862473924282"
      },
      "execution_count": null,
      "outputs": [
        {
          "output_type": "stream",
          "name": "stdout",
          "text": [
            "True\n",
            "False\n"
          ]
        }
      ]
    },
    {
      "cell_type": "code",
      "source": [
        "arr = np.array([1, 2, 3])\n",
        "print(np.isfinite(arr))\n",
        "\n",
        "arr = np.array([1, 2, 3, np.inf, np.nan])\n",
        "print(np.isfinite(arr))"
      ],
      "metadata": {
        "colab": {
          "base_uri": "https://localhost:8080/"
        },
        "id": "0atnutOmJTPD",
        "outputId": "3ff26fdd-e888-4af2-ee5a-68c19e37df11"
      },
      "execution_count": null,
      "outputs": [
        {
          "output_type": "stream",
          "name": "stdout",
          "text": [
            "[ True  True  True]\n",
            "[ True  True  True False False]\n"
          ]
        }
      ]
    },
    {
      "cell_type": "code",
      "source": [
        "arr = np.array([0, 1, 2, 3])\n",
        "print(arr > 0)\n",
        "\n",
        "arr = np.array([1, 2, 3, 4])\n",
        "print(np.any(arr))\n",
        "\n",
        "arr = np.array([0, 0, 0])\n",
        "print(np.any(arr))"
      ],
      "metadata": {
        "colab": {
          "base_uri": "https://localhost:8080/"
        },
        "id": "l0s8U-aSJuq9",
        "outputId": "546d3c23-150f-4731-ebb3-baa44dc948c4"
      },
      "execution_count": null,
      "outputs": [
        {
          "output_type": "stream",
          "name": "stdout",
          "text": [
            "[False  True  True  True]\n",
            "True\n",
            "False\n"
          ]
        }
      ]
    },
    {
      "cell_type": "code",
      "source": [
        "arr = np.array([0, 1, 2, 3])\n",
        "print(np.isinf(arr))\n",
        "\n",
        "arr = np.array([0, 1, np.inf, np.nan])\n",
        "print(np.isinf(arr))"
      ],
      "metadata": {
        "colab": {
          "base_uri": "https://localhost:8080/"
        },
        "id": "hfz3GudVKUAB",
        "outputId": "59ffa499-8089-4e72-de9a-98a02dbc36e1"
      },
      "execution_count": null,
      "outputs": [
        {
          "output_type": "stream",
          "name": "stdout",
          "text": [
            "[False False False False]\n",
            "[False False  True False]\n"
          ]
        }
      ]
    },
    {
      "cell_type": "code",
      "source": [
        "arr = np.array([0, 1, np.nan])\n",
        "print(np.isnan(arr))"
      ],
      "metadata": {
        "colab": {
          "base_uri": "https://localhost:8080/"
        },
        "id": "dKxrsj0LKwUy",
        "outputId": "0f4893a5-c3a7-4c43-90de-f559fa3f65d4"
      },
      "execution_count": null,
      "outputs": [
        {
          "output_type": "stream",
          "name": "stdout",
          "text": [
            "[False False  True]\n"
          ]
        }
      ]
    },
    {
      "cell_type": "code",
      "source": [
        "arr = np.array([1 + 1j, 1 + 0j, 1.5, 2j])\n",
        "print(np.iscomplex(arr))\n",
        "print(np.isreal(arr))\n",
        "print(np.isscalar(1.5))\n",
        "print(np.isscalar([1.5]))"
      ],
      "metadata": {
        "colab": {
          "base_uri": "https://localhost:8080/"
        },
        "id": "AAPku9aWLalq",
        "outputId": "3de45de6-984a-4b51-8e78-d863187d9e56"
      },
      "execution_count": null,
      "outputs": [
        {
          "output_type": "stream",
          "name": "stdout",
          "text": [
            "[ True False False  True]\n",
            "[False  True  True False]\n",
            "True\n",
            "False\n"
          ]
        }
      ]
    },
    {
      "cell_type": "code",
      "source": [
        "arr1 = np.array([1, 2, 3])\n",
        "arr2 = np.array([1.000001, 2.0000001, 3.0000001])\n",
        "print(np.allclose(arr1, arr2))"
      ],
      "metadata": {
        "colab": {
          "base_uri": "https://localhost:8080/"
        },
        "id": "iwOXMvDBNLDX",
        "outputId": "a27bb91c-f03c-44fe-bbda-ae0faf9b3c13"
      },
      "execution_count": null,
      "outputs": [
        {
          "output_type": "stream",
          "name": "stdout",
          "text": [
            "True\n"
          ]
        }
      ]
    },
    {
      "cell_type": "code",
      "source": [
        "arr1 = np.array([0, 5, 23, 9, 1])\n",
        "arr2 = np.array([-1, 5.5, 3, 15, 1])\n",
        "\n",
        "print(np.greater(arr1, arr2))\n",
        "print(np.greater_equal(arr1, arr2))\n",
        "print(np.less(arr1, arr2))\n",
        "print(np.less_equal(arr1, arr2))"
      ],
      "metadata": {
        "colab": {
          "base_uri": "https://localhost:8080/"
        },
        "id": "709rhl3gPKdB",
        "outputId": "d4847441-9295-4b6b-dcba-e6a0c1fda848"
      },
      "execution_count": null,
      "outputs": [
        {
          "output_type": "stream",
          "name": "stdout",
          "text": [
            "[ True False  True False False]\n",
            "[ True False  True False  True]\n",
            "[False  True False  True False]\n",
            "[False  True False  True  True]\n"
          ]
        }
      ]
    },
    {
      "cell_type": "code",
      "source": [
        "arr1 = np.array([1, 2, 3])\n",
        "arr2 = np.array([1, 2.0000001, 3.0000001])\n",
        "\n",
        "print(np.equal(arr1, arr2))\n",
        "print(np.allclose(arr1, arr2))"
      ],
      "metadata": {
        "colab": {
          "base_uri": "https://localhost:8080/"
        },
        "id": "GMoEX0X4P7So",
        "outputId": "5c177077-c066-4a3b-b2a5-833fa449dd96"
      },
      "execution_count": null,
      "outputs": [
        {
          "output_type": "stream",
          "name": "stdout",
          "text": [
            "[ True False False]\n",
            "True\n"
          ]
        }
      ]
    },
    {
      "cell_type": "code",
      "source": [
        "arr = np.array([1, 7, 12, 105])\n",
        "print(\"%d bytes\" % (arr.size * arr.itemsize))"
      ],
      "metadata": {
        "colab": {
          "base_uri": "https://localhost:8080/"
        },
        "id": "L2bb1aq-QuFG",
        "outputId": "19404615-39a0-49de-e6ad-70ccd4e71087"
      },
      "execution_count": null,
      "outputs": [
        {
          "output_type": "stream",
          "name": "stdout",
          "text": [
            "32 bytes\n"
          ]
        }
      ]
    },
    {
      "cell_type": "code",
      "source": [
        "arr1 = np.zeros(10)\n",
        "print(arr1)\n",
        "\n",
        "arr2 = np.ones(10)\n",
        "print(arr2)\n",
        "\n",
        "arr3 = np.ones(10)*5\n",
        "print(arr3)"
      ],
      "metadata": {
        "colab": {
          "base_uri": "https://localhost:8080/"
        },
        "id": "4O0du2iwRlhM",
        "outputId": "d8f6db5b-1b2d-4ddb-ab85-2d778cbad9fd"
      },
      "execution_count": null,
      "outputs": [
        {
          "output_type": "stream",
          "name": "stdout",
          "text": [
            "[0. 0. 0. 0. 0. 0. 0. 0. 0. 0.]\n",
            "[1. 1. 1. 1. 1. 1. 1. 1. 1. 1.]\n",
            "[5. 5. 5. 5. 5. 5. 5. 5. 5. 5.]\n"
          ]
        }
      ]
    },
    {
      "cell_type": "code",
      "source": [
        "arr = np.arange(30, 71)\n",
        "print(arr)"
      ],
      "metadata": {
        "colab": {
          "base_uri": "https://localhost:8080/"
        },
        "id": "5TGrBFB8R65K",
        "outputId": "3d790c82-9037-4706-c0e9-05956a4ed5f9"
      },
      "execution_count": null,
      "outputs": [
        {
          "output_type": "stream",
          "name": "stdout",
          "text": [
            "[30 31 32 33 34 35 36 37 38 39 40 41 42 43 44 45 46 47 48 49 50 51 52 53\n",
            " 54 55 56 57 58 59 60 61 62 63 64 65 66 67 68 69 70]\n"
          ]
        }
      ]
    },
    {
      "cell_type": "code",
      "source": [
        "arr = np.arange(30, 71, 2)\n",
        "print(arr)"
      ],
      "metadata": {
        "colab": {
          "base_uri": "https://localhost:8080/"
        },
        "id": "ApiZfkThS6lM",
        "outputId": "af162db4-7829-4b6d-e4b2-98435bdfa7bc"
      },
      "execution_count": null,
      "outputs": [
        {
          "output_type": "stream",
          "name": "stdout",
          "text": [
            "[30 32 34 36 38 40 42 44 46 48 50 52 54 56 58 60 62 64 66 68 70]\n"
          ]
        }
      ]
    },
    {
      "cell_type": "code",
      "source": [
        "arr = np.identity(3)\n",
        "print(arr)"
      ],
      "metadata": {
        "colab": {
          "base_uri": "https://localhost:8080/"
        },
        "id": "IAFLRvmcTGFp",
        "outputId": "d0707c26-3fac-4106-978f-338fe529b388"
      },
      "execution_count": null,
      "outputs": [
        {
          "output_type": "stream",
          "name": "stdout",
          "text": [
            "[[1. 0. 0.]\n",
            " [0. 1. 0.]\n",
            " [0. 0. 1.]]\n"
          ]
        }
      ]
    },
    {
      "cell_type": "code",
      "source": [
        "num = np.random.random(1)\n",
        "print(num)"
      ],
      "metadata": {
        "colab": {
          "base_uri": "https://localhost:8080/"
        },
        "id": "8qE-6xmmU1GM",
        "outputId": "270f52e9-5557-4f85-d8d8-c7b875c81f8c"
      },
      "execution_count": null,
      "outputs": [
        {
          "output_type": "stream",
          "name": "stdout",
          "text": [
            "[0.22881739]\n"
          ]
        }
      ]
    },
    {
      "cell_type": "code",
      "source": [
        "arr = np.random.normal(0, 1, 15)\n",
        "print(arr)"
      ],
      "metadata": {
        "colab": {
          "base_uri": "https://localhost:8080/"
        },
        "id": "tLKI7puqWS2Z",
        "outputId": "fee73e71-b51e-4982-af9a-753f1e166f39"
      },
      "execution_count": null,
      "outputs": [
        {
          "output_type": "stream",
          "name": "stdout",
          "text": [
            "[ 0.88844082 -0.48581629 -0.19580926  0.25447335 -1.49576566  0.92500164\n",
            "  0.59257105  1.88841232 -0.31198134 -1.13481944 -0.70934353 -0.01280239\n",
            " -1.43257399 -0.63100763 -0.41244698]\n"
          ]
        }
      ]
    },
    {
      "cell_type": "code",
      "source": [
        "arr = np.arange(15, 56)\n",
        "print(arr)\n",
        "print(arr[1:-1])"
      ],
      "metadata": {
        "colab": {
          "base_uri": "https://localhost:8080/"
        },
        "id": "03qK9_PtWjsi",
        "outputId": "56a1a8b1-0f76-4546-ee85-037fda59f3d0"
      },
      "execution_count": null,
      "outputs": [
        {
          "output_type": "stream",
          "name": "stdout",
          "text": [
            "[15 16 17 18 19 20 21 22 23 24 25 26 27 28 29 30 31 32 33 34 35 36 37 38\n",
            " 39 40 41 42 43 44 45 46 47 48 49 50 51 52 53 54 55]\n",
            "[16 17 18 19 20 21 22 23 24 25 26 27 28 29 30 31 32 33 34 35 36 37 38 39\n",
            " 40 41 42 43 44 45 46 47 48 49 50 51 52 53 54]\n"
          ]
        }
      ]
    },
    {
      "cell_type": "code",
      "source": [
        "arr = np.arange(10, 22).reshape(3, 4)\n",
        "print(arr)"
      ],
      "metadata": {
        "colab": {
          "base_uri": "https://localhost:8080/"
        },
        "id": "VQ2ervDxW2WT",
        "outputId": "b9a179bc-be21-480d-c3fc-f9e51babe835"
      },
      "execution_count": null,
      "outputs": [
        {
          "output_type": "stream",
          "name": "stdout",
          "text": [
            "[[10 11 12 13]\n",
            " [14 15 16 17]\n",
            " [18 19 20 21]]\n"
          ]
        }
      ]
    },
    {
      "cell_type": "code",
      "source": [
        "v = np.linspace(5, 50, 10)\n",
        "print(v)"
      ],
      "metadata": {
        "colab": {
          "base_uri": "https://localhost:8080/"
        },
        "id": "OEdqcc1kHKAf",
        "outputId": "10a5d636-6958-40e5-e72a-e6cf06f47a6f"
      },
      "execution_count": null,
      "outputs": [
        {
          "output_type": "stream",
          "name": "stdout",
          "text": [
            "[ 5. 10. 15. 20. 25. 30. 35. 40. 45. 50.]\n"
          ]
        }
      ]
    },
    {
      "cell_type": "code",
      "source": [
        "arr = np.arange(21)\n",
        "arr[(arr >= 9) & (arr <= 15)] *= -1\n",
        "print(arr)"
      ],
      "metadata": {
        "colab": {
          "base_uri": "https://localhost:8080/"
        },
        "id": "x4duDF74H74E",
        "outputId": "4566c204-d2be-4e45-eb4e-09fce0b8f204"
      },
      "execution_count": null,
      "outputs": [
        {
          "output_type": "stream",
          "name": "stdout",
          "text": [
            "[  0   1   2   3   4   5   6   7   8  -9 -10 -11 -12 -13 -14 -15  16  17\n",
            "  18  19  20]\n"
          ]
        }
      ]
    },
    {
      "cell_type": "code",
      "source": [
        "arr = np.random.randint(0, 11, 5)\n",
        "print(arr)"
      ],
      "metadata": {
        "colab": {
          "base_uri": "https://localhost:8080/"
        },
        "id": "FhINGdoFIt6J",
        "outputId": "5cded0b1-93c3-4797-93a9-b9f337a4b045"
      },
      "execution_count": null,
      "outputs": [
        {
          "output_type": "stream",
          "name": "stdout",
          "text": [
            "[2 7 8 7 3]\n"
          ]
        }
      ]
    },
    {
      "cell_type": "code",
      "source": [
        "arr1 = np.array([1, 2, 3])\n",
        "arr2 = np.array([4, 5, 6])\n",
        "\n",
        "print(arr1 * arr2)"
      ],
      "metadata": {
        "colab": {
          "base_uri": "https://localhost:8080/"
        },
        "id": "7govLVSCI_3J",
        "outputId": "973c4c7d-a36e-40ea-c430-14770dd34876"
      },
      "execution_count": null,
      "outputs": [
        {
          "output_type": "stream",
          "name": "stdout",
          "text": [
            "[ 4 10 18]\n"
          ]
        }
      ]
    },
    {
      "cell_type": "code",
      "source": [
        "arr = np.arange(10, 22).reshape(3, 4)\n",
        "print(arr)"
      ],
      "metadata": {
        "colab": {
          "base_uri": "https://localhost:8080/"
        },
        "id": "oiIB4L4kJauI",
        "outputId": "dc3b1a01-e0c8-414b-8deb-96cb7d81ff23"
      },
      "execution_count": null,
      "outputs": [
        {
          "output_type": "stream",
          "name": "stdout",
          "text": [
            "[[10 11 12 13]\n",
            " [14 15 16 17]\n",
            " [18 19 20 21]]\n"
          ]
        }
      ]
    },
    {
      "cell_type": "code",
      "source": [
        "arr = np.arange(10, 22).reshape(3, 4)\n",
        "\n",
        "print(\"shape: {0}\".format(arr.shape))"
      ],
      "metadata": {
        "colab": {
          "base_uri": "https://localhost:8080/"
        },
        "id": "DpoG_JTSJ5WA",
        "outputId": "e526bba7-3198-4cb8-9eff-f235068efb8f"
      },
      "execution_count": null,
      "outputs": [
        {
          "output_type": "stream",
          "name": "stdout",
          "text": [
            "shape: (3, 4)\n"
          ]
        }
      ]
    },
    {
      "cell_type": "code",
      "source": [
        "i_matrix = np.eye(3)\n",
        "print(i_matrix)"
      ],
      "metadata": {
        "colab": {
          "base_uri": "https://localhost:8080/"
        },
        "id": "WRg2dE9lLerG",
        "outputId": "2bec46e2-23d9-4ff9-f3f6-1adaf9a1d38e"
      },
      "execution_count": null,
      "outputs": [
        {
          "output_type": "stream",
          "name": "stdout",
          "text": [
            "[[1. 0. 0.]\n",
            " [0. 1. 0.]\n",
            " [0. 0. 1.]]\n"
          ]
        }
      ]
    },
    {
      "cell_type": "code",
      "source": [
        "arr = np.ones((10, 10))\n",
        "arr[1:-1, 1:-1] = 0\n",
        "print(arr)"
      ],
      "metadata": {
        "colab": {
          "base_uri": "https://localhost:8080/"
        },
        "id": "bj-MkrE3L32T",
        "outputId": "50c9d74a-306e-4236-c90f-e80cb4bc12a1"
      },
      "execution_count": null,
      "outputs": [
        {
          "output_type": "stream",
          "name": "stdout",
          "text": [
            "[[1. 1. 1. 1. 1. 1. 1. 1. 1. 1.]\n",
            " [1. 0. 0. 0. 0. 0. 0. 0. 0. 1.]\n",
            " [1. 0. 0. 0. 0. 0. 0. 0. 0. 1.]\n",
            " [1. 0. 0. 0. 0. 0. 0. 0. 0. 1.]\n",
            " [1. 0. 0. 0. 0. 0. 0. 0. 0. 1.]\n",
            " [1. 0. 0. 0. 0. 0. 0. 0. 0. 1.]\n",
            " [1. 0. 0. 0. 0. 0. 0. 0. 0. 1.]\n",
            " [1. 0. 0. 0. 0. 0. 0. 0. 0. 1.]\n",
            " [1. 0. 0. 0. 0. 0. 0. 0. 0. 1.]\n",
            " [1. 1. 1. 1. 1. 1. 1. 1. 1. 1.]]\n"
          ]
        }
      ]
    },
    {
      "cell_type": "code",
      "source": [
        "arr = np.diag([1, 2, 3, 4, 5])\n",
        "print(arr)"
      ],
      "metadata": {
        "colab": {
          "base_uri": "https://localhost:8080/"
        },
        "id": "Vj6eK-UpM0N_",
        "outputId": "a8f26f30-0c80-456f-c67b-239682a540a0"
      },
      "execution_count": null,
      "outputs": [
        {
          "output_type": "stream",
          "name": "stdout",
          "text": [
            "[[1 0 0 0 0]\n",
            " [0 2 0 0 0]\n",
            " [0 0 3 0 0]\n",
            " [0 0 0 4 0]\n",
            " [0 0 0 0 5]]\n"
          ]
        }
      ]
    },
    {
      "cell_type": "code",
      "source": [
        "arr = np.zeros((4, 4))\n",
        "arr[::2, 1::2] = 1\n",
        "arr[1::2, ::2] = 1\n",
        "print(arr)"
      ],
      "metadata": {
        "colab": {
          "base_uri": "https://localhost:8080/"
        },
        "id": "WvQwYA6aNX-j",
        "outputId": "5ca06edf-475e-4710-d442-781386b2da39"
      },
      "execution_count": null,
      "outputs": [
        {
          "output_type": "stream",
          "name": "stdout",
          "text": [
            "[[0. 1. 0. 1.]\n",
            " [1. 0. 1. 0.]\n",
            " [0. 1. 0. 1.]\n",
            " [1. 0. 1. 0.]]\n"
          ]
        }
      ]
    },
    {
      "cell_type": "code",
      "source": [
        "arr = np.random.random((3, 3, 3))\n",
        "print(arr)"
      ],
      "metadata": {
        "colab": {
          "base_uri": "https://localhost:8080/"
        },
        "id": "uCO9eIrUPC7t",
        "outputId": "8540505a-e29b-4e24-bda4-54d31f5a6846"
      },
      "execution_count": null,
      "outputs": [
        {
          "output_type": "stream",
          "name": "stdout",
          "text": [
            "[[[0.92705533 0.17533062 0.84870809]\n",
            "  [0.7745236  0.74801682 0.74391483]\n",
            "  [0.47191004 0.67757035 0.80769741]]\n",
            "\n",
            " [[0.50589442 0.34077625 0.9108193 ]\n",
            "  [0.21677671 0.71875972 0.02880237]\n",
            "  [0.77094497 0.40230363 0.19817013]]\n",
            "\n",
            " [[0.51566137 0.55502577 0.68887915]\n",
            "  [0.4238163  0.09479033 0.9601398 ]\n",
            "  [0.50543181 0.73128477 0.48416014]]]\n"
          ]
        }
      ]
    },
    {
      "cell_type": "code",
      "source": [
        "arr = np.array([[0, 1], [2, 3]])\n",
        "\n",
        "print(np.sum(arr))\n",
        "print(\"row sum {0}\".format(np.sum(arr, axis=0)))\n",
        "print(\"col sum {0}\".format(np.sum(arr, axis=1)))"
      ],
      "metadata": {
        "colab": {
          "base_uri": "https://localhost:8080/"
        },
        "id": "kIqCSfWyPeHh",
        "outputId": "be2e8a1f-5140-47ff-8a92-20d124d94bb7"
      },
      "execution_count": null,
      "outputs": [
        {
          "output_type": "stream",
          "name": "stdout",
          "text": [
            "6\n",
            "row sum [2 4]\n",
            "col sum [1 5]\n"
          ]
        }
      ]
    },
    {
      "cell_type": "code",
      "source": [
        "arr1 = np.array([1, 2])\n",
        "arr2 = np.array([3, 4])\n",
        "\n",
        "print(\"dot product: {0}\".format(np.dot(arr1, arr2)))\n",
        "print(\"dot product: {0}\".format(arr1 @ arr2))"
      ],
      "metadata": {
        "colab": {
          "base_uri": "https://localhost:8080/"
        },
        "id": "HIJaWsVvQS3Z",
        "outputId": "8a953ded-2b62-4ada-9013-c5fe9558ba59"
      },
      "execution_count": null,
      "outputs": [
        {
          "output_type": "stream",
          "name": "stdout",
          "text": [
            "dot product: 11\n",
            "dot product: 11\n"
          ]
        }
      ]
    },
    {
      "cell_type": "code",
      "source": [
        "arr1 = np.array([1, 1, 0])\n",
        "arr2 = np.array([[1, 2, 3], [4, 5, 6], [7, 8, 9], [10, 11, 12]])\n",
        "print(arr1 + arr2)"
      ],
      "metadata": {
        "colab": {
          "base_uri": "https://localhost:8080/"
        },
        "id": "_W-FT4ceRL4D",
        "outputId": "b217a210-3349-412c-91a8-0a2da07bdcf0"
      },
      "execution_count": null,
      "outputs": [
        {
          "output_type": "stream",
          "name": "stdout",
          "text": [
            "[[ 2  3  3]\n",
            " [ 5  6  6]\n",
            " [ 8  9  9]\n",
            " [11 12 12]]\n"
          ]
        }
      ]
    },
    {
      "cell_type": "code",
      "source": [
        "arr = np.arange(21)\n",
        "np.save('test_file.npy', arr)\n",
        "\n",
        "f = np.load('test_file.npy')\n",
        "print(f)"
      ],
      "metadata": {
        "colab": {
          "base_uri": "https://localhost:8080/"
        },
        "id": "fUvkAD8Ls9hi",
        "outputId": "934bb519-9c5b-4d92-bf46-c2ae19e4e150"
      },
      "execution_count": null,
      "outputs": [
        {
          "output_type": "stream",
          "name": "stdout",
          "text": [
            "[ 0  1  2  3  4  5  6  7  8  9 10 11 12 13 14 15 16 17 18 19 20]\n"
          ]
        }
      ]
    },
    {
      "cell_type": "code",
      "source": [
        "arr = np.arange(12).reshape(4, 3)\n",
        "header = 'col1 col2 col3'\n",
        "np.savetxt('test_file.txt', arr, fmt = \"%d\", header = header)\n",
        "\n",
        "f = np.loadtxt('test_file.txt')\n",
        "print(f)"
      ],
      "metadata": {
        "colab": {
          "base_uri": "https://localhost:8080/"
        },
        "id": "Y8n53b-ds9bE",
        "outputId": "8272aac6-b190-41b1-fb37-780a30fce7f0"
      },
      "execution_count": null,
      "outputs": [
        {
          "output_type": "stream",
          "name": "stdout",
          "text": [
            "[[ 0.  1.  2.]\n",
            " [ 3.  4.  5.]\n",
            " [ 6.  7.  8.]\n",
            " [ 9. 10. 11.]]\n"
          ]
        }
      ]
    },
    {
      "cell_type": "code",
      "source": [
        "arr = np.array([1, 2, 3, 4, 5, 6])\n",
        "arr_bytes = arr.tobytes()\n",
        "arr2 = np.frombuffer(arr_bytes, dtype = arr.dtype)\n",
        "print(arr2)"
      ],
      "metadata": {
        "colab": {
          "base_uri": "https://localhost:8080/"
        },
        "id": "Z1Sp2-IquLlT",
        "outputId": "7f2847d8-59fb-42d8-d0f9-f6068339afac"
      },
      "execution_count": null,
      "outputs": [
        {
          "output_type": "stream",
          "name": "stdout",
          "text": [
            "[1 2 3 4 5 6]\n"
          ]
        }
      ]
    },
    {
      "cell_type": "code",
      "source": [
        "l = [1, 2, 3]\n",
        "arr = np.array(l)\n",
        "arr = arr.tolist()\n",
        "\n",
        "print(l == arr)"
      ],
      "metadata": {
        "colab": {
          "base_uri": "https://localhost:8080/"
        },
        "id": "9sby2KwgunJ1",
        "outputId": "029f4605-1a64-4677-a06a-4ac80b430fcc"
      },
      "execution_count": null,
      "outputs": [
        {
          "output_type": "stream",
          "name": "stdout",
          "text": [
            "True\n"
          ]
        }
      ]
    },
    {
      "cell_type": "code",
      "source": [
        "import matplotlib.pyplot as plt\n",
        "\n",
        "x = np.arange(0, 3 * np.pi, 0.2)\n",
        "y = np.sin(x)\n",
        "\n",
        "plt.plot(x, y)\n",
        "plt.show()"
      ],
      "metadata": {
        "colab": {
          "base_uri": "https://localhost:8080/",
          "height": 430
        },
        "id": "JX3hjq1MvAzx",
        "outputId": "f5dc2540-4e99-4e80-decd-abce91f69648"
      },
      "execution_count": null,
      "outputs": [
        {
          "output_type": "display_data",
          "data": {
            "text/plain": [
              "<Figure size 640x480 with 1 Axes>"
            ],
            "image/png": "[encoded data removed]"
          },
          "metadata": {}
        }
      ]
    },
    {
      "cell_type": "code",
      "source": [
        "x = np.float32(0)\n",
        "print(type(x))\n",
        "\n",
        "pyval = x.item()\n",
        "print(type(pyval))"
      ],
      "metadata": {
        "colab": {
          "base_uri": "https://localhost:8080/"
        },
        "id": "8XNrInXUvpuw",
        "outputId": "08e53320-1792-445d-8ea8-c8b8c603701f"
      },
      "execution_count": null,
      "outputs": [
        {
          "output_type": "stream",
          "name": "stdout",
          "text": [
            "<class 'numpy.float32'>\n",
            "<class 'float'>\n"
          ]
        }
      ]
    },
    {
      "cell_type": "code",
      "source": [
        "arr = np.array([[1, 2, np.nan], [10, 12, 13], [5, np.nan, np.nan]])\n",
        "print(np.isnan(arr))"
      ],
      "metadata": {
        "colab": {
          "base_uri": "https://localhost:8080/"
        },
        "id": "DYvmNB6kFUc8",
        "outputId": "59dbd6c4-c954-48c5-f442-0c3d0dc3e07f"
      },
      "execution_count": null,
      "outputs": [
        {
          "output_type": "stream",
          "name": "stdout",
          "text": [
            "[[False False  True]\n",
            " [False False False]\n",
            " [False  True  True]]\n"
          ]
        }
      ]
    },
    {
      "cell_type": "code",
      "source": [
        "arr1 = np.array([1, 2, 3])\n",
        "arr2 = np.array([1, 2, 3])\n",
        "arr3 = np.array([[1], [2], [3]])\n",
        "\n",
        "print(np.array_equal(arr1, arr2))\n",
        "print(np.array_equal(arr1, arr3))"
      ],
      "metadata": {
        "colab": {
          "base_uri": "https://localhost:8080/"
        },
        "id": "KXzxJaUuF830",
        "outputId": "5c72f668-8a7a-410d-9a8a-9836811c5615"
      },
      "execution_count": null,
      "outputs": [
        {
          "output_type": "stream",
          "name": "stdout",
          "text": [
            "True\n",
            "False\n"
          ]
        }
      ]
    },
    {
      "cell_type": "code",
      "source": [
        "arr1 = np.random.randint(0, 10, size=10)\n",
        "print(arr1)\n",
        "\n",
        "arr2 = np.random.randint(11, 100, size=10)\n",
        "print(arr2)\n",
        "\n",
        "arr3 = np.random.randint(100, 999, size=10)\n",
        "print(arr3)"
      ],
      "metadata": {
        "colab": {
          "base_uri": "https://localhost:8080/"
        },
        "id": "zLsh_8HswHWp",
        "outputId": "3fa3cef7-9c45-4be7-c75b-f84e18b3d24a"
      },
      "execution_count": null,
      "outputs": [
        {
          "output_type": "stream",
          "name": "stdout",
          "text": [
            "[9 2 4 6 8 4 6 2 4 3]\n",
            "[28 94 24 50 67 60 68 44 94 42]\n",
            "[434 379 238 330 959 222 974 111 638 552]\n"
          ]
        }
      ]
    },
    {
      "cell_type": "code",
      "source": [
        "arr = np.random.randint(0, 99, size=(3, 4))\n",
        "print(arr)"
      ],
      "metadata": {
        "colab": {
          "base_uri": "https://localhost:8080/"
        },
        "id": "xJCmqQ6Rx3Ar",
        "outputId": "2a8d7bab-7521-47e4-a5d8-2e5dc126857e"
      },
      "execution_count": null,
      "outputs": [
        {
          "output_type": "stream",
          "name": "stdout",
          "text": [
            "[[34 56 33  9]\n",
            " [57 80 37 52]\n",
            " [49  4 90 93]]\n"
          ]
        }
      ]
    },
    {
      "cell_type": "code",
      "source": [
        "arr = np.random.random(size=40)\n",
        "print(arr)"
      ],
      "metadata": {
        "colab": {
          "base_uri": "https://localhost:8080/"
        },
        "id": "t9xe4iZlyqwJ",
        "outputId": "8363bbd4-cf14-4a0e-b3bc-fa5b63da83ce"
      },
      "execution_count": null,
      "outputs": [
        {
          "output_type": "stream",
          "name": "stdout",
          "text": [
            "[0.55435493 0.24833513 0.47378318 0.08895892 0.44824006 0.9048981\n",
            " 0.71960449 0.64429536 0.32271553 0.24332804 0.42453645 0.12350944\n",
            " 0.16004896 0.31955469 0.58328608 0.61851501 0.14112345 0.92252641\n",
            " 0.81385164 0.54551202 0.57762414 0.94170339 0.05838336 0.60887051\n",
            " 0.33373833 0.47286339 0.29991946 0.95095855 0.9241512  0.65510059\n",
            " 0.19144841 0.48765014 0.98190645 0.90268782 0.26343828 0.8664574\n",
            " 0.59496388 0.02273616 0.67929297 0.99329775]\n"
          ]
        }
      ]
    },
    {
      "cell_type": "code",
      "source": [
        "arr = np.random.normal(loc=200, scale=7, size=(8, 5))\n",
        "print(arr)"
      ],
      "metadata": {
        "colab": {
          "base_uri": "https://localhost:8080/"
        },
        "id": "OQjDEkJkzDmN",
        "outputId": "b2307948-0f69-42b3-857a-a99f4e567b10"
      },
      "execution_count": null,
      "outputs": [
        {
          "output_type": "stream",
          "name": "stdout",
          "text": [
            "[[192.51027343 202.24182785 197.26465059 188.19297415 205.01834877]\n",
            " [203.56956121 197.80714451 192.66363819 212.76038856 194.20604529]\n",
            " [217.79893867 200.14982589 196.8004718  202.23549701 206.12564683]\n",
            " [205.30870303 191.17648991 203.16551435 196.17976563 197.31882407]\n",
            " [198.16820442 202.43815794 217.96509972 210.63826419 206.44820472]\n",
            " [195.41057493 205.49731056 193.28573738 204.29696291 202.17456116]\n",
            " [211.48314396 206.2759277  194.64764387 210.00453036 205.22934672]\n",
            " [195.1475327  204.18337945 195.33496847 196.9772577  200.76001669]]\n"
          ]
        }
      ]
    },
    {
      "cell_type": "code",
      "source": [
        "from os import replace\n",
        "arr = np.array([1, 2, 3, 4, 5, 6, 7, 8, 9, 10])\n",
        "arr_nr = np.random.choice(arr, size=5, replace=False)\n",
        "print(\"no replacement: {0}\".format(arr_nr))\n",
        "\n",
        "arr_r = np.random.choice(arr, size=5, replace=True)\n",
        "print(\"with replacememt: {0}\".format(arr_r))"
      ],
      "metadata": {
        "colab": {
          "base_uri": "https://localhost:8080/"
        },
        "id": "CFPiEbmwzlE7",
        "outputId": "e40828a4-a212-4b8c-8672-bf469fd786f3"
      },
      "execution_count": null,
      "outputs": [
        {
          "output_type": "stream",
          "name": "stdout",
          "text": [
            "no replacement: [ 8  7 10  3  9]\n",
            "with replacememt: [9 5 1 2 5]\n"
          ]
        }
      ]
    },
    {
      "cell_type": "code",
      "source": [
        "arr = np.random.randint(0, 10, size=(4, 4))\n",
        "print(arr, \"\\n\")\n",
        "\n",
        "arr[[0, -1], :] = arr[[-1, 0], :]\n",
        "print(arr)"
      ],
      "metadata": {
        "colab": {
          "base_uri": "https://localhost:8080/"
        },
        "id": "hWzjjkYx2eiY",
        "outputId": "ac123f6e-0c8b-4573-b8a9-3a432a6071ee"
      },
      "execution_count": null,
      "outputs": [
        {
          "output_type": "stream",
          "name": "stdout",
          "text": [
            "[[8 5 9 5]\n",
            " [2 9 5 4]\n",
            " [9 9 6 1]\n",
            " [1 1 6 3]] \n",
            "\n",
            "[[1 1 6 3]\n",
            " [2 9 5 4]\n",
            " [9 9 6 1]\n",
            " [8 5 9 5]]\n"
          ]
        }
      ]
    },
    {
      "cell_type": "code",
      "source": [
        "arr = np.zeros(30).reshape(5, 6)\n",
        "\n",
        "print(arr)"
      ],
      "metadata": {
        "colab": {
          "base_uri": "https://localhost:8080/"
        },
        "id": "55sw6YdBPh8t",
        "outputId": "d401c97e-21b1-443f-8238-3288092e0c36"
      },
      "execution_count": null,
      "outputs": [
        {
          "output_type": "stream",
          "name": "stdout",
          "text": [
            "[[0. 0. 0. 0. 0. 0.]\n",
            " [0. 0. 0. 0. 0. 0.]\n",
            " [0. 0. 0. 0. 0. 0.]\n",
            " [0. 0. 0. 0. 0. 0.]\n",
            " [0. 0. 0. 0. 0. 0.]]\n"
          ]
        }
      ]
    },
    {
      "cell_type": "code",
      "source": [
        "arr = np.array([[5.5, 3.1, 7.8], [3.4, 4.4, 7], [1.5, 2.4, 0.7]])\n",
        "print(np.sort(arr), \"\\n\")\n",
        "print(np.sort(arr, axis=0))"
      ],
      "metadata": {
        "colab": {
          "base_uri": "https://localhost:8080/"
        },
        "id": "qK9KxbcoPuph",
        "outputId": "e21731c1-9489-4a73-864c-c1f1dae62fc9"
      },
      "execution_count": null,
      "outputs": [
        {
          "output_type": "stream",
          "name": "stdout",
          "text": [
            "[[3.1 5.5 7.8]\n",
            " [3.4 4.4 7. ]\n",
            " [0.7 1.5 2.4]] \n",
            "\n",
            "[[1.5 2.4 0.7]\n",
            " [3.4 3.1 7. ]\n",
            " [5.5 4.4 7.8]]\n"
          ]
        }
      ]
    },
    {
      "cell_type": "code",
      "source": [
        "arr = np.array([[1, 2, 3], [4, 5, 6], [3.1, 3.01, 3.001]])\n",
        "print(arr[arr > 3])"
      ],
      "metadata": {
        "colab": {
          "base_uri": "https://localhost:8080/"
        },
        "id": "4PXiS_iJSbpK",
        "outputId": "2e4c01cc-7de2-4d73-ecdb-24ef20d874e3"
      },
      "execution_count": null,
      "outputs": [
        {
          "output_type": "stream",
          "name": "stdout",
          "text": [
            "[4.    5.    6.    3.1   3.01  3.001]\n"
          ]
        }
      ]
    },
    {
      "cell_type": "code",
      "source": [
        "arr = np.array([[5.5, 3.4, 8], [3.5, 8.3, 7], [1.5, 2.4, 9.3]])\n",
        "\n",
        "print(np.where(arr == 5.5, 10.5, arr))"
      ],
      "metadata": {
        "colab": {
          "base_uri": "https://localhost:8080/"
        },
        "id": "AN_mFv19Tnky",
        "outputId": "a79065e4-5ced-4697-f4ab-83f0b2a9ec81"
      },
      "execution_count": null,
      "outputs": [
        {
          "output_type": "stream",
          "name": "stdout",
          "text": [
            "[[10.5  3.4  8. ]\n",
            " [ 3.5  8.3  7. ]\n",
            " [ 1.5  2.4  9.3]]\n"
          ]
        }
      ]
    },
    {
      "cell_type": "code",
      "source": [
        "arr = np.array([[5.5, 3.4, 8], [3.5, 8.3, 7], [1.5, 2.4, 9.3]])\n",
        "print(np.ones_like(arr)*5)"
      ],
      "metadata": {
        "colab": {
          "base_uri": "https://localhost:8080/"
        },
        "id": "D6TdfIZFUS-K",
        "outputId": "af561c03-8317-495e-aa7d-629358717bed"
      },
      "execution_count": null,
      "outputs": [
        {
          "output_type": "stream",
          "name": "stdout",
          "text": [
            "[[5. 5. 5.]\n",
            " [5. 5. 5.]\n",
            " [5. 5. 5.]]\n",
            "[5.5 3.4 8. ]\n"
          ]
        }
      ]
    },
    {
      "cell_type": "code",
      "source": [
        "arr = np.arange(1, 61).reshape(3, 5, 4)\n",
        "print(arr)"
      ],
      "metadata": {
        "colab": {
          "base_uri": "https://localhost:8080/"
        },
        "id": "48bOmBwbVtPu",
        "outputId": "761b8f37-9c4d-434d-ddcc-783b86321146"
      },
      "execution_count": null,
      "outputs": [
        {
          "output_type": "stream",
          "name": "stdout",
          "text": [
            "[[[ 1  2  3  4]\n",
            "  [ 5  6  7  8]\n",
            "  [ 9 10 11 12]\n",
            "  [13 14 15 16]\n",
            "  [17 18 19 20]]\n",
            "\n",
            " [[21 22 23 24]\n",
            "  [25 26 27 28]\n",
            "  [29 30 31 32]\n",
            "  [33 34 35 36]\n",
            "  [37 38 39 40]]\n",
            "\n",
            " [[41 42 43 44]\n",
            "  [45 46 47 48]\n",
            "  [49 50 51 52]\n",
            "  [53 54 55 56]\n",
            "  [57 58 59 60]]]\n"
          ]
        }
      ]
    },
    {
      "cell_type": "code",
      "source": [
        "arr = np.arange(1, 17).reshape(4, 4)\n",
        "print(arr, \"\\n\")\n",
        "\n",
        "arr[[0, -1], :] = arr[[-1, 0], :]\n",
        "print(arr, \"\\n\")\n",
        "\n",
        "arr[[1, 2], :] = arr[[2, 1], :]\n",
        "print(arr)"
      ],
      "metadata": {
        "colab": {
          "base_uri": "https://localhost:8080/"
        },
        "id": "x1_pQHj9WJhF",
        "outputId": "1ae891fe-cc87-4f9e-fcd7-a94704dca10e"
      },
      "execution_count": null,
      "outputs": [
        {
          "output_type": "stream",
          "name": "stdout",
          "text": [
            "[[ 1  2  3  4]\n",
            " [ 5  6  7  8]\n",
            " [ 9 10 11 12]\n",
            " [13 14 15 16]] \n",
            "\n",
            "[[13 14 15 16]\n",
            " [ 5  6  7  8]\n",
            " [ 9 10 11 12]\n",
            " [ 1  2  3  4]] \n",
            "\n",
            "[[13 14 15 16]\n",
            " [ 9 10 11 12]\n",
            " [ 5  6  7  8]\n",
            " [ 1  2  3  4]]\n"
          ]
        }
      ]
    },
    {
      "cell_type": "code",
      "source": [
        "arr = np.arange(1, 17).reshape(4, 4)\n",
        "\n",
        "print(arr[::-1, ::-1])"
      ],
      "metadata": {
        "colab": {
          "base_uri": "https://localhost:8080/"
        },
        "id": "e6cZ1ct_XRUz",
        "outputId": "79537c98-3c2c-4c27-fc44-dc8211b0b550"
      },
      "execution_count": null,
      "outputs": [
        {
          "output_type": "stream",
          "name": "stdout",
          "text": [
            "[[16 15 14 13]\n",
            " [12 11 10  9]\n",
            " [ 8  7  6  5]\n",
            " [ 4  3  2  1]]\n"
          ]
        }
      ]
    },
    {
      "cell_type": "code",
      "source": [
        "arr1 = np.random.randint(10, size=(3,3))\n",
        "print(arr1, \"\\n\")\n",
        "\n",
        "arr2 = np.random.randint(10, size=(3, 3))\n",
        "print(arr2, \"\\n\")\n",
        "\n",
        "print(arr1 * arr2, \"\\n\")\n",
        "print(np.multiply(arr1, arr2))"
      ],
      "metadata": {
        "colab": {
          "base_uri": "https://localhost:8080/"
        },
        "id": "ZRprc-Ehal6k",
        "outputId": "0678925c-a332-4121-eab3-507e6119e8a4"
      },
      "execution_count": null,
      "outputs": [
        {
          "output_type": "stream",
          "name": "stdout",
          "text": [
            "[[7 6 8]\n",
            " [5 0 1]\n",
            " [4 3 1]] \n",
            "\n",
            "[[5 2 6]\n",
            " [2 6 0]\n",
            " [5 2 9]] \n",
            "\n",
            "[[35 12 48]\n",
            " [10  0  0]\n",
            " [20  6  9]] \n",
            "\n",
            "[[35 12 48]\n",
            " [10  0  0]\n",
            " [20  6  9]]\n"
          ]
        }
      ]
    }
  ]
}